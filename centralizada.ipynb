{
 "cells": [
  {
   "metadata": {},
   "cell_type": "markdown",
   "source": [
    "# Miembros del grupo:\n",
    "## Javier Cirugeda Bugallo\n",
    "## Hugo Franco Vargas Aponte\n",
    "## Salman Bouikou Nouinou"
   ],
   "id": "9ee1d219882e031c"
  },
  {
   "cell_type": "code",
   "id": "initial_id",
   "metadata": {
    "collapsed": true,
    "ExecuteTime": {
     "end_time": "2024-11-04T19:21:15.564515Z",
     "start_time": "2024-11-04T19:21:15.561868Z"
    }
   },
   "source": [
    "import numpy as np\n",
    "import math"
   ],
   "outputs": [],
   "execution_count": 3
  },
  {
   "metadata": {},
   "cell_type": "markdown",
   "source": "# Cargar el archivo CSV",
   "id": "f91126f47950d6c5"
  },
  {
   "metadata": {
    "ExecuteTime": {
     "end_time": "2024-11-04T19:21:15.599391Z",
     "start_time": "2024-11-04T19:21:15.578448Z"
    }
   },
   "cell_type": "code",
   "source": [
    "data = np.loadtxt(\"/home/ciruu/PycharmProjects/SPAI/test.csv\", delimiter=\",\")\n",
    "X = data[:, :-1]\n",
    "y = data[:, -1].astype(int)"
   ],
   "id": "52c246a39bd82a95",
   "outputs": [],
   "execution_count": 4
  },
  {
   "metadata": {},
   "cell_type": "markdown",
   "source": "# Cantidad de filas",
   "id": "76ce9cca56e23c2c"
  },
  {
   "metadata": {
    "ExecuteTime": {
     "end_time": "2024-11-04T19:21:15.633063Z",
     "start_time": "2024-11-04T19:21:15.630545Z"
    }
   },
   "cell_type": "code",
   "source": "num = len(X)",
   "id": "36b4fe612bc4e9a",
   "outputs": [],
   "execution_count": 5
  },
  {
   "metadata": {},
   "cell_type": "markdown",
   "source": "# Parte 1: Cálculo de la media",
   "id": "1e35bac5b3900e5b"
  },
  {
   "metadata": {
    "ExecuteTime": {
     "end_time": "2024-11-04T19:21:15.681583Z",
     "start_time": "2024-11-04T19:21:15.678178Z"
    }
   },
   "cell_type": "code",
   "source": [
    "medias = np.mean(X, axis=0)\n",
    "print(f\"MEDIAS: {medias}\")"
   ],
   "id": "5e92ed81f2b6d4e3",
   "outputs": [
    {
     "name": "stdout",
     "output_type": "stream",
     "text": [
      "MEDIAS: [1.23185297e+03 2.07362242e+04 7.26069074e+03 6.01445003e+04\n",
      " 1.24948735e+08 1.52584124e+07 9.22230129e+00 1.85649862e+00\n",
      " 1.24192067e+02 2.13316969e+09 2.27034084e+09]\n"
     ]
    }
   ],
   "execution_count": 6
  },
  {
   "metadata": {},
   "cell_type": "markdown",
   "source": "# Parte 2: Cálculo de la varianza",
   "id": "5ae08c947286980c"
  },
  {
   "metadata": {
    "ExecuteTime": {
     "end_time": "2024-11-04T19:21:15.733536Z",
     "start_time": "2024-11-04T19:21:15.729877Z"
    }
   },
   "cell_type": "code",
   "source": [
    "varianzas = np.var(X, axis=0)\n",
    "print(f\"VARIANZA: {varianzas}\")"
   ],
   "id": "bd8b9fa074bae744",
   "outputs": [
    {
     "name": "stdout",
     "output_type": "stream",
     "text": [
      "VARIANZA: [2.51781240e+06 5.70220913e+08 2.81562405e+08 1.71636513e+10\n",
      " 5.62320496e+16 1.89501185e+15 2.73272537e+01 4.39041738e+00\n",
      " 8.19803933e+03 5.10634476e+17 1.67149262e+18]\n"
     ]
    }
   ],
   "execution_count": 7
  },
  {
   "metadata": {},
   "cell_type": "markdown",
   "source": "# Parte 3: Cálculo de la desviación estándar",
   "id": "16de21785519d36f"
  },
  {
   "metadata": {
    "ExecuteTime": {
     "end_time": "2024-11-04T19:21:15.811337Z",
     "start_time": "2024-11-04T19:21:15.808147Z"
    }
   },
   "cell_type": "code",
   "source": [
    "stdevs = np.sqrt(varianzas)\n",
    "print(f\"DESVIACIÓN ESTÁNDAR: {stdevs}\")"
   ],
   "id": "4f1faf624f403fe9",
   "outputs": [
    {
     "name": "stdout",
     "output_type": "stream",
     "text": [
      "DESVIACIÓN ESTÁNDAR: [1.58676161e+03 2.38792988e+04 1.67798214e+04 1.31010119e+05\n",
      " 2.37132979e+08 4.35317339e+07 5.22754758e+00 2.09533228e+00\n",
      " 9.05430247e+01 7.14586927e+08 1.29286218e+09]\n"
     ]
    }
   ],
   "execution_count": 8
  },
  {
   "metadata": {},
   "cell_type": "markdown",
   "source": "# Parte 4: Normalización",
   "id": "f759d88fa02539d8"
  },
  {
   "metadata": {
    "ExecuteTime": {
     "end_time": "2024-11-04T19:21:15.862026Z",
     "start_time": "2024-11-04T19:21:15.859224Z"
    }
   },
   "cell_type": "code",
   "source": "X_normalized = (X - medias) / stdevs",
   "id": "c2f4f04c8f9f8ad3",
   "outputs": [],
   "execution_count": 9
  },
  {
   "metadata": {},
   "cell_type": "markdown",
   "source": "# Parte 5: Entrenamiento del modelo (Regresión logística)",
   "id": "4b73e5096cc45d03"
  },
  {
   "metadata": {
    "ExecuteTime": {
     "end_time": "2024-11-04T19:21:15.926464Z",
     "start_time": "2024-11-04T19:21:15.914311Z"
    }
   },
   "cell_type": "code",
   "source": [
    "def sigmoid(z):\n",
    "    return 1 / (1 + np.exp(-z))\n",
    "\n",
    "def compute_cost(X, y, w, b):\n",
    "    m = len(y)\n",
    "    z = X.dot(w) + b\n",
    "    y_hat = sigmoid(z)\n",
    "    epsilon = 1e-12\n",
    "    cost = -np.mean(y * np.log(y_hat + epsilon) + (1 - y) * np.log(1 - y_hat + epsilon))\n",
    "    return cost\n",
    "\n",
    "def compute_gradients(X, y, w, b):\n",
    "    m = len(y)\n",
    "    z = X.dot(w) + b\n",
    "    y_hat = sigmoid(z)\n",
    "    dz = y_hat - y\n",
    "    dw = (1 / m) * np.dot(X.T, dz)\n",
    "    db = (1 / m) * np.sum(dz)\n",
    "    return dw, db\n",
    "\n",
    "def train(X, y, iterations, learning_rate):\n",
    "    n_features = X.shape[1]\n",
    "    w = np.zeros(n_features)\n",
    "    b = 0.0\n",
    "\n",
    "    for i in range(iterations):\n",
    "        dw, db = compute_gradients(X, y, w, b)\n",
    "        w -= learning_rate * dw\n",
    "        b -= learning_rate * db\n",
    "        cost = compute_cost(X, y, w, b)\n",
    "        print(f\"Iteration {i}  Cost: {cost}\")\n",
    "\n",
    "    return w, b"
   ],
   "id": "670ee93b778d9814",
   "outputs": [],
   "execution_count": 10
  },
  {
   "metadata": {},
   "cell_type": "markdown",
   "source": "# Entrenar el modelo",
   "id": "619f5a034e783b5e"
  },
  {
   "metadata": {
    "ExecuteTime": {
     "end_time": "2024-11-04T19:21:16.002257Z",
     "start_time": "2024-11-04T19:21:15.980955Z"
    }
   },
   "cell_type": "code",
   "source": [
    "iterations = 10\n",
    "learning_rate = 1.5\n",
    "w, b = train(X_normalized, y, iterations, learning_rate)"
   ],
   "id": "ecd6d45106dc34e8",
   "outputs": [
    {
     "name": "stdout",
     "output_type": "stream",
     "text": [
      "Iteration 0  Cost: 0.39485320408295554\n",
      "Iteration 1  Cost: 0.32468787133660637\n",
      "Iteration 2  Cost: 0.28861989310969066\n",
      "Iteration 3  Cost: 0.2657710622182766\n",
      "Iteration 4  Cost: 0.24973102197549482\n",
      "Iteration 5  Cost: 0.23774886147961907\n",
      "Iteration 6  Cost: 0.2284133298950248\n",
      "Iteration 7  Cost: 0.2209137718946165\n",
      "Iteration 8  Cost: 0.21474653645562503\n",
      "Iteration 9  Cost: 0.20958010243876757\n"
     ]
    }
   ],
   "execution_count": 11
  },
  {
   "metadata": {},
   "cell_type": "markdown",
   "source": "# Parte 6: Predicción",
   "id": "59002649eaa489f6"
  },
  {
   "metadata": {
    "ExecuteTime": {
     "end_time": "2024-11-04T19:21:16.039834Z",
     "start_time": "2024-11-04T19:21:16.037074Z"
    }
   },
   "cell_type": "code",
   "source": [
    "def predict(X, w, b):\n",
    "    y_hat = sigmoid(np.dot(X, w) + b)\n",
    "    return (y_hat >= 0.5).astype(int)"
   ],
   "id": "810619c522de154b",
   "outputs": [],
   "execution_count": 12
  },
  {
   "metadata": {},
   "cell_type": "markdown",
   "source": "# Parte 7: Cálculo de precisión",
   "id": "ffb2ccc1a2125a11"
  },
  {
   "metadata": {
    "ExecuteTime": {
     "end_time": "2024-11-04T19:21:16.090093Z",
     "start_time": "2024-11-04T19:21:16.086763Z"
    }
   },
   "cell_type": "code",
   "source": [
    "def accuracy(X, y, w, b):\n",
    "    predictions = predict(X, w, b)\n",
    "    return np.mean(predictions == y)\n",
    "\n",
    "acc = accuracy(X_normalized, y, w, b)\n",
    "print(f\"Accuracy: {acc * 100:.4f}%\")"
   ],
   "id": "51df3462c1a16e1a",
   "outputs": [
    {
     "name": "stdout",
     "output_type": "stream",
     "text": [
      "Accuracy: 92.9600%\n"
     ]
    }
   ],
   "execution_count": 13
  }
 ],
 "metadata": {
  "kernelspec": {
   "display_name": "Python 3",
   "language": "python",
   "name": "python3"
  },
  "language_info": {
   "codemirror_mode": {
    "name": "ipython",
    "version": 2
   },
   "file_extension": ".py",
   "mimetype": "text/x-python",
   "name": "python",
   "nbconvert_exporter": "python",
   "pygments_lexer": "ipython2",
   "version": "2.7.6"
  }
 },
 "nbformat": 4,
 "nbformat_minor": 5
}
