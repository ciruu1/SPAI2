{
 "cells": [
  {
   "cell_type": "code",
   "id": "initial_id",
   "metadata": {
    "collapsed": true,
    "ExecuteTime": {
     "end_time": "2024-10-04T18:08:15.385766Z",
     "start_time": "2024-10-04T18:08:12.658176Z"
    }
   },
   "source": [
    "import findspark\n",
    "\n",
    "findspark.init()\n",
    "\n",
    "from pyspark import SparkContext\n",
    "import numpy as np\n",
    "\n",
    "\n",
    "sc = SparkContext(\"local[*]\", \"Media practica\")\n",
    "rdd = sc.textFile(\"/home/ciruu/CLionProjects/practica2SPAI/test.csv\")"
   ],
   "outputs": [
    {
     "name": "stderr",
     "output_type": "stream",
     "text": [
      "24/10/04 20:08:13 WARN Utils: Your hostname, Ciruu resolves to a loopback address: 127.0.1.1; using 10.150.83.214 instead (on interface wlp2s0)\n",
      "24/10/04 20:08:13 WARN Utils: Set SPARK_LOCAL_IP if you need to bind to another address\n",
      "Setting default log level to \"WARN\".\n",
      "To adjust logging level use sc.setLogLevel(newLevel). For SparkR, use setLogLevel(newLevel).\n",
      "24/10/04 20:08:14 WARN NativeCodeLoader: Unable to load native-hadoop library for your platform... using builtin-java classes where applicable\n",
      "24/10/04 20:08:14 WARN Utils: Service 'SparkUI' could not bind on port 4040. Attempting port 4041.\n"
     ]
    }
   ],
   "execution_count": 1
  },
  {
   "metadata": {
    "ExecuteTime": {
     "end_time": "2024-10-04T18:08:15.397360Z",
     "start_time": "2024-10-04T18:08:15.393347Z"
    }
   },
   "cell_type": "code",
   "source": [
    "def readRow(row):\n",
    "    arr = row.split(\",\")\n",
    "    lst = np.array(arr).astype(np.float64)\n",
    "    return np.array([float(x) for x in lst[:-1]]), int(lst[-1])\n",
    "\n",
    "def suma(el1, el2):\n",
    "    return el1 + el2"
   ],
   "id": "a418330a2acfbf3",
   "outputs": [],
   "execution_count": 2
  },
  {
   "metadata": {
    "ExecuteTime": {
     "end_time": "2024-10-04T18:08:16.835219Z",
     "start_time": "2024-10-04T18:08:15.517650Z"
    }
   },
   "cell_type": "code",
   "source": [
    "rdd1 = rdd.map(readRow)\n",
    "print(rdd1.take(2))\n",
    "\n",
    "num = rdd.count()\n",
    "print(num)\n",
    "\n",
    "# Dividimos entre el número total de filas\n",
    "def divide_by_num(tup):\n",
    "    tup[0] = tup[0] / num\n",
    "    return tup\n",
    "\n",
    "\n",
    "rdd2 = rdd1.reduce(lambda x, y: (x[0] + y[0], x[1]))\n",
    "\n",
    "print(rdd2)\n",
    "medias = rdd2[0] / num\n",
    "# Calculamos la media por cada columna con índice I\n",
    "#medias = rdd3.collect()\n",
    "print(f\"MEDIAS: {medias}\")\n",
    "#print(medias)"
   ],
   "id": "11160b826e456912",
   "outputs": [
    {
     "name": "stderr",
     "output_type": "stream",
     "text": [
      "                                                                                \r"
     ]
    },
    {
     "name": "stdout",
     "output_type": "stream",
     "text": [
      "[(array([ 3.00388642e+00,  2.07699955e+03, -4.41037030e-05,  1.00000002e+01,\n",
      "        1.29114942e+04,  6.99998079e+01,  1.20000000e+01, -2.35688188e-08,\n",
      "        1.99000002e+02,  2.46836961e+09,  2.46836839e+09]), 1), (array([ 9.50811331e+02,  4.12285694e+04,  5.30000498e+01,  9.99999745e-01,\n",
      "        1.38579999e+04,  4.29592488e+06,  1.30000000e+01, -2.35688188e-08,\n",
      "        8.00000498e+00,  2.46836962e+09,  2.46837255e+09]), 1)]\n",
      "5000\n",
      "(array([6.15926485e+06, 1.03681121e+08, 3.63034537e+07, 3.00722501e+08,\n",
      "       6.24743675e+11, 7.62920618e+10, 4.61115064e+04, 9.28249311e+03,\n",
      "       6.20960335e+05, 1.06658485e+13, 1.13517042e+13]), 1)\n",
      "MEDIAS: [1.23185297e+03 2.07362242e+04 7.26069074e+03 6.01445003e+04\n",
      " 1.24948735e+08 1.52584124e+07 9.22230129e+00 1.85649862e+00\n",
      " 1.24192067e+02 2.13316969e+09 2.27034084e+09]\n"
     ]
    }
   ],
   "execution_count": 3
  },
  {
   "metadata": {
    "ExecuteTime": {
     "end_time": "2024-10-04T18:10:07.167268Z",
     "start_time": "2024-10-04T18:10:07.162563Z"
    }
   },
   "cell_type": "code",
   "source": [
    "from math import sqrt\n",
    "# Función para obtener la media de un índice en concreto en un array\n",
    "def get_media_from_tup_array(arr, index):\n",
    "    for e in arr:\n",
    "        if e[0] == index:\n",
    "            return e[1]\n",
    "        \n",
    "        \n",
    "# Función para calcular la varianza a partir de una tupla\n",
    "def calc_var(tup):\n",
    "    #mean = get_media_from_tup_array(medias, tup[0])\n",
    "    return ((tup[0] - medias) ** 2), tup[1]"
   ],
   "id": "bce6b1e04e8db24a",
   "outputs": [],
   "execution_count": 11
  },
  {
   "metadata": {
    "ExecuteTime": {
     "end_time": "2024-10-04T18:10:48.567545Z",
     "start_time": "2024-10-04T18:10:48.286392Z"
    }
   },
   "cell_type": "code",
   "source": [
    "# Caćulo de la varianza a partir de las tuplas\n",
    "rdd4 = rdd1.map(calc_var)\n",
    "print(rdd4.take(2))\n",
    "rdd5 = rdd4.reduce(lambda x, y: (x[0] + y[0], x[1]))\n",
    "\n",
    "\n",
    "\n",
    "print(f\"VARIANZA: {rdd5[0]/num}\")"
   ],
   "id": "43a511465031e22",
   "outputs": [
    {
     "name": "stdout",
     "output_type": "stream",
     "text": [
      "[(array([1.51007007e+06, 3.48166664e+08, 5.27176306e+07, 3.61615812e+09,\n",
      "       1.56089600e+16, 2.32817011e+14, 7.71561013e+00, 3.44658722e+00,\n",
      "       5.59622713e+03, 1.12358987e+17, 3.92149115e+16]), 1), (array([7.89844029e+04, 4.19936211e+08, 5.19508051e+07, 3.61724063e+09,\n",
      "       1.56087235e+16, 1.20176132e+14, 1.42710073e+01, 3.44658722e+00,\n",
      "       1.35005953e+04, 1.12358990e+17, 3.92165577e+16]), 1)]\n",
      "VARIANZA: [2.51781240e+06 5.70220913e+08 2.81562405e+08 1.71636513e+10\n",
      " 5.62320496e+16 1.89501185e+15 2.73272537e+01 4.39041738e+00\n",
      " 8.19803933e+03 5.10634476e+17 1.67149262e+18]\n"
     ]
    }
   ],
   "execution_count": 12
  },
  {
   "metadata": {
    "ExecuteTime": {
     "end_time": "2024-10-04T18:12:49.864070Z",
     "start_time": "2024-10-04T18:12:49.714375Z"
    }
   },
   "cell_type": "code",
   "source": [
    "#print(rdd5)\n",
    "rddx = rdd1.map(lambda x: (x[0])).stdev()\n",
    "print(rddx)\n",
    "print(f\"DESVIACIÓN ESTÁNDAR: {np.sqrt(rdd5[0]/num)}\")"
   ],
   "id": "500bd7aad330a6fc",
   "outputs": [
    {
     "name": "stdout",
     "output_type": "stream",
     "text": [
      "[1.58676161e+03 2.38792988e+04 1.67798214e+04 1.31010119e+05\n",
      " 2.37132979e+08 4.35317339e+07 5.22754758e+00 2.09533228e+00\n",
      " 9.05430247e+01 7.14586927e+08 1.29286218e+09]\n",
      "DESVIACIÓN ESTÁNDAR: [1.58676161e+03 2.38792988e+04 1.67798214e+04 1.31010119e+05\n",
      " 2.37132979e+08 4.35317339e+07 5.22754758e+00 2.09533228e+00\n",
      " 9.05430247e+01 7.14586927e+08 1.29286218e+09]\n"
     ]
    }
   ],
   "execution_count": 18
  },
  {
   "metadata": {},
   "cell_type": "markdown",
   "source": "# PARTE 2 NORMALIZACIÓN",
   "id": "937e2e74e47dc195"
  },
  {
   "metadata": {
    "ExecuteTime": {
     "end_time": "2024-10-04T18:16:27.987030Z",
     "start_time": "2024-10-04T18:16:27.982309Z"
    }
   },
   "cell_type": "code",
   "source": [
    "array_medias = medias\n",
    "array_stdev = np.sqrt(rdd5[0]/num)\n",
    "print(array_stdev)\n",
    "print(array_medias)"
   ],
   "id": "6e0abab9c34d8e32",
   "outputs": [
    {
     "name": "stdout",
     "output_type": "stream",
     "text": [
      "[1.58676161e+03 2.38792988e+04 1.67798214e+04 1.31010119e+05\n",
      " 2.37132979e+08 4.35317339e+07 5.22754758e+00 2.09533228e+00\n",
      " 9.05430247e+01 7.14586927e+08 1.29286218e+09]\n",
      "[1.23185297e+03 2.07362242e+04 7.26069074e+03 6.01445003e+04\n",
      " 1.24948735e+08 1.52584124e+07 9.22230129e+00 1.85649862e+00\n",
      " 1.24192067e+02 2.13316969e+09 2.27034084e+09]\n"
     ]
    }
   ],
   "execution_count": 28
  },
  {
   "metadata": {
    "ExecuteTime": {
     "end_time": "2024-10-04T18:16:30.162640Z",
     "start_time": "2024-10-04T18:16:30.158498Z"
    }
   },
   "cell_type": "code",
   "source": [
    "def normalize(tup):\n",
    "    data = tup[0]\n",
    "    normalized_data = []\n",
    "    i = 0\n",
    "    for e in data:\n",
    "        normalized_data.append((e - array_medias[i]) / array_stdev[i])  \n",
    "        i+=1\n",
    "    return np.array(normalized_data), tup[1]"
   ],
   "id": "5f30120e380c5dbe",
   "outputs": [],
   "execution_count": 29
  },
  {
   "metadata": {
    "ExecuteTime": {
     "end_time": "2024-10-04T18:16:43.255672Z",
     "start_time": "2024-10-04T18:16:43.078836Z"
    }
   },
   "cell_type": "code",
   "source": [
    "rdd2_1 = rdd1.map(normalize)\n",
    "#med = rdd2_1.map(lambda x: x[0]).mean()\n",
    "#print(med)\n",
    "#print(rdd2_1.collect())\n",
    "stdevv = rdd2_1.map(lambda x: x[0]).stdev()\n",
    "print(stdevv)\n",
    "#print(rdd1.collect())\n",
    "#print(rdd2_1.collect())"
   ],
   "id": "aa0c15c078b2fd95",
   "outputs": [
    {
     "name": "stdout",
     "output_type": "stream",
     "text": [
      "[1. 1. 1. 1. 1. 1. 1. 1. 1. 1. 1.]\n"
     ]
    }
   ],
   "execution_count": 31
  }
 ],
 "metadata": {
  "kernelspec": {
   "display_name": "Python 3",
   "language": "python",
   "name": "python3"
  },
  "language_info": {
   "codemirror_mode": {
    "name": "ipython",
    "version": 2
   },
   "file_extension": ".py",
   "mimetype": "text/x-python",
   "name": "python",
   "nbconvert_exporter": "python",
   "pygments_lexer": "ipython2",
   "version": "2.7.6"
  }
 },
 "nbformat": 4,
 "nbformat_minor": 5
}
