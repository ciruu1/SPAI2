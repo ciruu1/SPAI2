{
 "cells": [
  {
   "cell_type": "code",
   "id": "initial_id",
   "metadata": {
    "collapsed": true,
    "ExecuteTime": {
     "end_time": "2024-10-19T08:17:56.954509Z",
     "start_time": "2024-10-19T08:17:54.142756Z"
    }
   },
   "source": [
    "import findspark\n",
    "\n",
    "findspark.init()\n",
    "\n",
    "from pyspark import SparkContext\n",
    "import numpy as np\n",
    "\n",
    "\n",
    "sc = SparkContext(\"local[*]\", \"Media practica\")\n"
   ],
   "outputs": [
    {
     "name": "stderr",
     "output_type": "stream",
     "text": [
      "24/10/19 10:17:55 WARN Utils: Your hostname, Ciruu resolves to a loopback address: 127.0.1.1; using 10.150.83.214 instead (on interface wlp2s0)\n",
      "24/10/19 10:17:55 WARN Utils: Set SPARK_LOCAL_IP if you need to bind to another address\n",
      "Setting default log level to \"WARN\".\n",
      "To adjust logging level use sc.setLogLevel(newLevel). For SparkR, use setLogLevel(newLevel).\n",
      "24/10/19 10:17:56 WARN NativeCodeLoader: Unable to load native-hadoop library for your platform... using builtin-java classes where applicable\n"
     ]
    }
   ],
   "execution_count": 1
  },
  {
   "metadata": {
    "ExecuteTime": {
     "end_time": "2024-10-19T08:17:57.326471Z",
     "start_time": "2024-10-19T08:17:56.969932Z"
    }
   },
   "cell_type": "code",
   "source": [
    "import math\n",
    "rdd = sc.textFile(\"/home/ciruu/CLionProjects/practica2SPAI/botnet_tot_syn_l.csv\")"
   ],
   "id": "4d93e8e545e60d35",
   "outputs": [],
   "execution_count": 2
  },
  {
   "metadata": {
    "ExecuteTime": {
     "end_time": "2024-10-19T08:17:57.433510Z",
     "start_time": "2024-10-19T08:17:57.430264Z"
    }
   },
   "cell_type": "code",
   "source": [
    "def readRow(row):\n",
    "    arr = row.split(\",\")\n",
    "    lst = np.array(arr).astype(np.float64)\n",
    "    return np.array([float(x) for x in lst[:-1]]), int(lst[-1])\n",
    "\n",
    "def suma(el1, el2):\n",
    "    return el1 + el2"
   ],
   "id": "a418330a2acfbf3",
   "outputs": [],
   "execution_count": 3
  },
  {
   "metadata": {
    "ExecuteTime": {
     "end_time": "2024-10-19T08:18:01.679299Z",
     "start_time": "2024-10-19T08:17:57.460079Z"
    }
   },
   "cell_type": "code",
   "source": [
    "rdd1 = rdd.map(readRow)\n",
    "print(rdd1.take(2))\n",
    "\n",
    "num = rdd.count()\n",
    "print(num)\n",
    "\n",
    "# Dividimos entre el número total de filas\n",
    "def divide_by_num(tup):\n",
    "    tup[0] = tup[0] / num\n",
    "    return tup\n",
    "\n",
    "\n",
    "rdd2 = rdd1.reduce(lambda x, y: (x[0] + y[0], x[1]))\n",
    "\n",
    "print(rdd2)\n",
    "medias = rdd2[0] / num\n",
    "# Calculamos la media por cada columna con índice I\n",
    "#medias = rdd3.collect()\n",
    "print(f\"MEDIAS: {medias}\")\n",
    "#print(medias)"
   ],
   "id": "11160b826e456912",
   "outputs": [
    {
     "name": "stderr",
     "output_type": "stream",
     "text": [
      "                                                                                \r"
     ]
    },
    {
     "name": "stdout",
     "output_type": "stream",
     "text": [
      "[(array([9.01278427e+00, 1.67299998e+03, 2.19999885e+01, 9.99999745e-01,\n",
      "       6.19998877e+01, 6.99998079e+01, 1.30000002e+01, 2.99999998e+00,\n",
      "       1.99000002e+02, 2.46836957e+09, 2.46837255e+09]), 1), (array([3.59999909e+03, 4.82065758e+04, 1.33629998e+04, 1.00000192e+00,\n",
      "       2.62999242e+02, 8.29998876e+01, 1.39999452e+01, 5.00000003e+00,\n",
      "       2.16999996e+02, 1.53904420e+09, 2.46836839e+09]), 0)]\n",
      "1000000\n"
     ]
    },
    {
     "name": "stderr",
     "output_type": "stream",
     "text": [
      "[Stage 2:====================================================>      (8 + 1) / 9]\r"
     ]
    },
    {
     "name": "stdout",
     "output_type": "stream",
     "text": [
      "(array([1.28153827e+09, 2.12827672e+10, 6.94805718e+09, 6.26311961e+10,\n",
      "       1.22198595e+14, 1.57222361e+13, 9.10731393e+06, 1.88975480e+06,\n",
      "       1.24270159e+08, 2.13060301e+15, 2.26149180e+15]), 1)\n",
      "MEDIAS: [1.28153827e+03 2.12827672e+04 6.94805718e+03 6.26311961e+04\n",
      " 1.22198595e+08 1.57222361e+07 9.10731393e+00 1.88975480e+00\n",
      " 1.24270159e+02 2.13060301e+09 2.26149180e+09]\n"
     ]
    },
    {
     "name": "stderr",
     "output_type": "stream",
     "text": [
      "                                                                                \r"
     ]
    }
   ],
   "execution_count": 4
  },
  {
   "metadata": {
    "ExecuteTime": {
     "end_time": "2024-10-19T08:18:01.723725Z",
     "start_time": "2024-10-19T08:18:01.717639Z"
    }
   },
   "cell_type": "code",
   "source": [
    "from math import sqrt\n",
    "# Función para obtener la media de un índice en concreto en un array\n",
    "def get_media_from_tup_array(arr, index):\n",
    "    for e in arr:\n",
    "        if e[0] == index:\n",
    "            return e[1]\n",
    "        \n",
    "        \n",
    "# Función para calcular la varianza a partir de una tupla\n",
    "def calc_var(tup):\n",
    "    #mean = get_media_from_tup_array(medias, tup[0])\n",
    "    return ((tup[0] - medias) ** 2), tup[1]"
   ],
   "id": "bce6b1e04e8db24a",
   "outputs": [],
   "execution_count": 5
  },
  {
   "metadata": {
    "ExecuteTime": {
     "end_time": "2024-10-19T08:18:05.150036Z",
     "start_time": "2024-10-19T08:18:01.781144Z"
    }
   },
   "cell_type": "code",
   "source": [
    "# Caćulo de la varianza a partir de las tuplas\n",
    "rdd4 = rdd1.map(calc_var)\n",
    "print(rdd4.take(2))\n",
    "rdd5 = rdd4.reduce(lambda x, y: (x[0] + y[0], x[1]))\n",
    "\n",
    "\n",
    "\n",
    "print(f\"VARIANZA: {rdd5[0]/num}\")"
   ],
   "id": "43a511465031e22",
   "outputs": [
    {
     "name": "stdout",
     "output_type": "stream",
     "text": [
      "[(array([1.61932112e+06, 3.84542970e+08, 4.79702682e+07, 3.92254146e+09,\n",
      "       1.49324814e+16, 2.47186507e+14, 1.51530066e+01, 1.23264437e+00,\n",
      "       5.58454938e+03, 1.14086248e+17, 4.27996434e+16]), 1), (array([5.37526055e+06, 7.24891472e+08, 4.11514894e+07, 3.92254146e+09,\n",
      "       1.49324323e+16, 2.47186098e+14, 2.39378410e+01, 9.67362543e+00,\n",
      "       8.59882264e+03, 3.49941831e+17, 4.27979244e+16]), 0)]\n"
     ]
    },
    {
     "name": "stderr",
     "output_type": "stream",
     "text": [
      "[Stage 4:=============================================>             (7 + 2) / 9]\r"
     ]
    },
    {
     "name": "stdout",
     "output_type": "stream",
     "text": [
      "VARIANZA: [2.57889305e+06 5.81652602e+08 2.68794233e+08 1.80268802e+10\n",
      " 5.47189003e+16 1.94690792e+15 2.78966275e+01 4.41565337e+00\n",
      " 8.16187974e+03 5.09572461e+17 1.69398542e+18]\n"
     ]
    },
    {
     "name": "stderr",
     "output_type": "stream",
     "text": [
      "                                                                                \r"
     ]
    }
   ],
   "execution_count": 6
  },
  {
   "metadata": {
    "ExecuteTime": {
     "end_time": "2024-10-19T08:18:08.835624Z",
     "start_time": "2024-10-19T08:18:05.176449Z"
    }
   },
   "cell_type": "code",
   "source": [
    "#print(rdd5)\n",
    "rddx = rdd1.map(lambda x: (x[0])).stdev()\n",
    "print(rddx)\n",
    "print(f\"DESVIACIÓN ESTÁNDAR: {np.sqrt(rdd5[0]/num)}\")"
   ],
   "id": "500bd7aad330a6fc",
   "outputs": [
    {
     "name": "stderr",
     "output_type": "stream",
     "text": [
      "[Stage 5:====================================================>      (8 + 1) / 9]\r"
     ]
    },
    {
     "name": "stdout",
     "output_type": "stream",
     "text": [
      "[1.60589322e+03 2.41174750e+04 1.63949454e+04 1.34264218e+05\n",
      " 2.33920714e+08 4.41237795e+07 5.28172581e+00 2.10134561e+00\n",
      " 9.03431222e+01 7.13843443e+08 1.30153195e+09]\n",
      "DESVIACIÓN ESTÁNDAR: [1.60589322e+03 2.41174750e+04 1.63949454e+04 1.34264218e+05\n",
      " 2.33920714e+08 4.41237795e+07 5.28172581e+00 2.10134561e+00\n",
      " 9.03431222e+01 7.13843443e+08 1.30153195e+09]\n"
     ]
    },
    {
     "name": "stderr",
     "output_type": "stream",
     "text": [
      "                                                                                \r"
     ]
    }
   ],
   "execution_count": 7
  },
  {
   "metadata": {},
   "cell_type": "markdown",
   "source": "# PARTE 2 NORMALIZACIÓN",
   "id": "937e2e74e47dc195"
  },
  {
   "metadata": {
    "ExecuteTime": {
     "end_time": "2024-10-19T08:18:09.023369Z",
     "start_time": "2024-10-19T08:18:09.018225Z"
    }
   },
   "cell_type": "code",
   "source": [
    "array_medias = medias\n",
    "array_stdev = np.sqrt(rdd5[0]/num)\n",
    "print(array_stdev)\n",
    "print(array_medias)"
   ],
   "id": "6e0abab9c34d8e32",
   "outputs": [
    {
     "name": "stdout",
     "output_type": "stream",
     "text": [
      "[1.60589322e+03 2.41174750e+04 1.63949454e+04 1.34264218e+05\n",
      " 2.33920714e+08 4.41237795e+07 5.28172581e+00 2.10134561e+00\n",
      " 9.03431222e+01 7.13843443e+08 1.30153195e+09]\n",
      "[1.28153827e+03 2.12827672e+04 6.94805718e+03 6.26311961e+04\n",
      " 1.22198595e+08 1.57222361e+07 9.10731393e+00 1.88975480e+00\n",
      " 1.24270159e+02 2.13060301e+09 2.26149180e+09]\n"
     ]
    }
   ],
   "execution_count": 8
  },
  {
   "metadata": {
    "ExecuteTime": {
     "end_time": "2024-10-19T08:18:09.095412Z",
     "start_time": "2024-10-19T08:18:09.091448Z"
    }
   },
   "cell_type": "code",
   "source": [
    "def normalize(tup):\n",
    "    data = tup[0]\n",
    "    normalized_data = []\n",
    "    i = 0\n",
    "    for e in data:\n",
    "        normalized_data.append((e - array_medias[i]) / array_stdev[i])  \n",
    "        i+=1\n",
    "    return np.array(normalized_data), tup[1]"
   ],
   "id": "5f30120e380c5dbe",
   "outputs": [],
   "execution_count": 9
  },
  {
   "metadata": {
    "ExecuteTime": {
     "end_time": "2024-10-19T08:18:18.968464Z",
     "start_time": "2024-10-19T08:18:09.187817Z"
    }
   },
   "cell_type": "code",
   "source": [
    "rdd2_1 = rdd1.map(normalize)\n",
    "med = rdd2_1.map(lambda x: x[0]).mean()\n",
    "print(med)\n",
    "#print(rdd2_1.collect())\n",
    "stdevv = rdd2_1.map(lambda x: x[0]).stdev()\n",
    "print(stdevv)\n",
    "#print(rdd1.collect())\n",
    "#print(rdd2_1.collect())"
   ],
   "id": "aa0c15c078b2fd95",
   "outputs": [
    {
     "name": "stderr",
     "output_type": "stream",
     "text": [
      "                                                                                \r"
     ]
    },
    {
     "name": "stdout",
     "output_type": "stream",
     "text": [
      "[ 2.12292098e-13  1.59698094e-13 -1.56219737e-13 -3.27623399e-14\n",
      " -1.84865090e-13  3.84528564e-15  7.29247825e-13  1.20991119e-12\n",
      " -3.54308698e-13  4.06503878e-13 -1.77615382e-13]\n"
     ]
    },
    {
     "name": "stderr",
     "output_type": "stream",
     "text": [
      "[Stage 7:====================================================>      (8 + 1) / 9]\r"
     ]
    },
    {
     "name": "stdout",
     "output_type": "stream",
     "text": [
      "[1. 1. 1. 1. 1. 1. 1. 1. 1. 1. 1.]\n"
     ]
    },
    {
     "name": "stderr",
     "output_type": "stream",
     "text": [
      "                                                                                \r"
     ]
    }
   ],
   "execution_count": 10
  },
  {
   "metadata": {
    "ExecuteTime": {
     "end_time": "2024-10-19T08:18:19.002595Z",
     "start_time": "2024-10-19T08:18:19.000494Z"
    }
   },
   "cell_type": "code",
   "source": "",
   "id": "2d44e01a72881bc3",
   "outputs": [],
   "execution_count": null
  },
  {
   "metadata": {},
   "cell_type": "markdown",
   "source": "# Parte 3. Entrenamiento",
   "id": "13e97f05ff41817d"
  },
  {
   "metadata": {
    "ExecuteTime": {
     "end_time": "2024-10-19T08:18:19.057853Z",
     "start_time": "2024-10-19T08:18:19.048971Z"
    }
   },
   "cell_type": "code",
   "source": [
    "def train(RDD_Xy, iterations, learning_rate):\n",
    "    # Initialize weights (w) and bias (b)\n",
    "    n_features = 11  # As stated in the problem, there are 11 features\n",
    "    w = [0.0] * n_features  # Initialize weights to 0 for each feature\n",
    "    b = 0.0  # Initialize bias to 0\n",
    "\n",
    "    m = RDD_Xy.count()  # Get the number of training examples\n",
    "\n",
    "    for i in range(iterations):\n",
    "        # Compute the gradient for weights and bias\n",
    "        gradients = RDD_Xy.map(lambda xy: compute_gradients(xy, w, b)).reduce(lambda g1, g2: add_gradients(g1, g2))\n",
    "        \n",
    "        dw = [gradients[j] / m for j in range(n_features)]  # Average the weight gradients\n",
    "        db = gradients[-1] / m  # Average the bias gradient\n",
    "\n",
    "        # Update the weights and bias using gradient descent\n",
    "        w = [w[j] - learning_rate * dw[j] for j in range(n_features)]\n",
    "        b = b - learning_rate * db\n",
    "\n",
    "        # Calculate and print the cost for the current iteration\n",
    "        cost = compute_cost(RDD_Xy, w, b, m)\n",
    "        print(f\"iteration {i}  Cost: {cost}\")\n",
    "\n",
    "    return w, b\n",
    "\n",
    "def compute_gradients(xy, w, b):\n",
    "    \"\"\"\n",
    "    Compute gradients for a single example (X, y).\n",
    "    Returns:\n",
    "    A list containing [dw1, dw2, ..., dwk, db]\n",
    "    \"\"\"\n",
    "    X, y = xy\n",
    "    z = sum([w[j] * X[j] for j in range(len(X))]) + b  # Linear combination z = w.X + b\n",
    "    y_hat = 1 / (1 + math.exp(-z))  # Sigmoid function\n",
    "    \n",
    "    # Compute the gradients\n",
    "    dz = y_hat - y\n",
    "    dw = [dz * X[j] for j in range(len(X))]  # Derivative with respect to each weight\n",
    "    db = dz  # Derivative with respect to the bias\n",
    "\n",
    "    return dw + [db]\n",
    "\n",
    "def add_gradients(g1, g2):\n",
    "    \"\"\"\n",
    "    Add two gradient vectors element-wise.\n",
    "    \"\"\"\n",
    "    return [g1[j] + g2[j] for j in range(len(g1))]\n",
    "\n",
    "def compute_cost(RDD_Xy, w, b, m):\n",
    "    \"\"\"\n",
    "    Compute the cost (log loss) for the current weights w and bias b.\n",
    "\n",
    "    Arguments:\n",
    "    RDD_Xy -- RDD containing tuples (X, y) where:\n",
    "              X is the feature vector (list of floats)\n",
    "              y is the actual label (0 or 1)\n",
    "    w -- list of weights (length = number of features)\n",
    "    b -- bias (float)\n",
    "    m -- number of examples (integer)\n",
    "\n",
    "    Returns:\n",
    "    cost -- the value of the cost function (float)\n",
    "    \"\"\"\n",
    "    cost_sum = RDD_Xy.map(lambda xy: cost_per_example(xy, w, b)).sum()\n",
    "    cost = -cost_sum / m\n",
    "    return cost\n",
    "\n",
    "def cost_per_example(xy, w, b):\n",
    "    \"\"\"\n",
    "    Compute the cost for a single example (X, y).\n",
    "    \"\"\"\n",
    "    X, y = xy\n",
    "    z = sum([w[j] * X[j] for j in range(len(X))]) + b  # Linear combination z = w.X + b\n",
    "    y_hat = 1 / (1 + math.exp(-z))  # Sigmoid function\n",
    "\n",
    "    # Avoid log(0) by adding a small value (epsilon)\n",
    "    epsilon = 1e-12\n",
    "    cost = y * math.log(y_hat + epsilon) + (1 - y) * math.log(1 - y_hat + epsilon)\n",
    "    \n",
    "    return cost"
   ],
   "id": "8e68f1c686f9625e",
   "outputs": [],
   "execution_count": 11
  },
  {
   "metadata": {
    "ExecuteTime": {
     "end_time": "2024-10-19T08:19:47.741922Z",
     "start_time": "2024-10-19T08:18:19.106300Z"
    }
   },
   "cell_type": "code",
   "source": [
    "# Train the model\n",
    "iterations = 10\n",
    "learning_rate = 1.5\n",
    "w, b = train(rdd2_1, iterations, learning_rate)"
   ],
   "id": "6849f872d84f251b",
   "outputs": [
    {
     "name": "stderr",
     "output_type": "stream",
     "text": [
      "                                                                                \r"
     ]
    },
    {
     "name": "stdout",
     "output_type": "stream",
     "text": [
      "iteration 0  Cost: 0.3992659144762792\n"
     ]
    },
    {
     "name": "stderr",
     "output_type": "stream",
     "text": [
      "                                                                                \r"
     ]
    },
    {
     "name": "stdout",
     "output_type": "stream",
     "text": [
      "iteration 1  Cost: 0.329601224155895\n"
     ]
    },
    {
     "name": "stderr",
     "output_type": "stream",
     "text": [
      "                                                                                \r"
     ]
    },
    {
     "name": "stdout",
     "output_type": "stream",
     "text": [
      "iteration 2  Cost: 0.2935851820369425\n"
     ]
    },
    {
     "name": "stderr",
     "output_type": "stream",
     "text": [
      "                                                                                \r"
     ]
    },
    {
     "name": "stdout",
     "output_type": "stream",
     "text": [
      "iteration 3  Cost: 0.27064705416132845\n"
     ]
    },
    {
     "name": "stderr",
     "output_type": "stream",
     "text": [
      "                                                                                \r"
     ]
    },
    {
     "name": "stdout",
     "output_type": "stream",
     "text": [
      "iteration 4  Cost: 0.2544721446478405\n"
     ]
    },
    {
     "name": "stderr",
     "output_type": "stream",
     "text": [
      "                                                                                \r"
     ]
    },
    {
     "name": "stdout",
     "output_type": "stream",
     "text": [
      "iteration 5  Cost: 0.24234438084426718\n"
     ]
    },
    {
     "name": "stderr",
     "output_type": "stream",
     "text": [
      "                                                                                \r"
     ]
    },
    {
     "name": "stdout",
     "output_type": "stream",
     "text": [
      "iteration 6  Cost: 0.23286621344630484\n"
     ]
    },
    {
     "name": "stderr",
     "output_type": "stream",
     "text": [
      "                                                                                \r"
     ]
    },
    {
     "name": "stdout",
     "output_type": "stream",
     "text": [
      "iteration 7  Cost: 0.22523236048642015\n"
     ]
    },
    {
     "name": "stderr",
     "output_type": "stream",
     "text": [
      "                                                                                \r"
     ]
    },
    {
     "name": "stdout",
     "output_type": "stream",
     "text": [
      "iteration 8  Cost: 0.218940992142173\n"
     ]
    },
    {
     "name": "stderr",
     "output_type": "stream",
     "text": [
      "[Stage 28:=============================================>            (7 + 2) / 9]\r"
     ]
    },
    {
     "name": "stdout",
     "output_type": "stream",
     "text": [
      "iteration 9  Cost: 0.21366083292951382\n"
     ]
    },
    {
     "name": "stderr",
     "output_type": "stream",
     "text": [
      "                                                                                \r"
     ]
    }
   ],
   "execution_count": 12
  },
  {
   "metadata": {},
   "cell_type": "markdown",
   "source": "# PARTE 4 PREDICCIÓN",
   "id": "8d45e7cead0403ea"
  },
  {
   "metadata": {
    "ExecuteTime": {
     "end_time": "2024-10-19T08:19:47.765361Z",
     "start_time": "2024-10-19T08:19:47.758942Z"
    }
   },
   "cell_type": "code",
   "source": [
    "def predict(w, b, X):\n",
    "    z = sum([w[j] * X[j] for j in range(len(X))]) + b  # Linear combination z = w.X + b\n",
    "    y_hat = 1 / (1 + math.exp(-z))  # Sigmoid function\n",
    "    \n",
    "    # Convert y_hat to a binary label (0 or 1)\n",
    "    return 1 if y_hat >= 0.5 else 0\n",
    "\n",
    "def accuracy(w, b, RDD_Xy):\n",
    "    # Predict for each example in RDD_Xy and compare with actual label\n",
    "    correct_predictions = RDD_Xy.map(lambda xy: 1 if predict(w, b, xy[0]) == xy[1] else 0).sum()\n",
    "    \n",
    "    # Get the total number of examples in the RDD\n",
    "    total_examples = RDD_Xy.count()\n",
    "    \n",
    "    # Compute accuracy as the fraction of correct predictions\n",
    "    accuracy = correct_predictions / total_examples\n",
    "    \n",
    "    return accuracy"
   ],
   "id": "7f9067652629c5e",
   "outputs": [],
   "execution_count": 13
  },
  {
   "metadata": {
    "ExecuteTime": {
     "end_time": "2024-10-19T08:19:47.830478Z",
     "start_time": "2024-10-19T08:19:47.827456Z"
    }
   },
   "cell_type": "code",
   "source": "",
   "id": "64833bff7517588d",
   "outputs": [],
   "execution_count": null
  },
  {
   "metadata": {},
   "cell_type": "markdown",
   "source": "# PARTE 5 PRECISIÓN",
   "id": "e9d48ae6c9fb3181"
  },
  {
   "metadata": {
    "ExecuteTime": {
     "end_time": "2024-10-19T08:19:55.739280Z",
     "start_time": "2024-10-19T08:19:47.879563Z"
    }
   },
   "cell_type": "code",
   "source": [
    "# Calculate accuracy\n",
    "acc = accuracy(w, b, rdd2_1)\n",
    "print(f\"Accuracy: {acc * 100:.4f}%\")"
   ],
   "id": "97498570ecb1dc12",
   "outputs": [
    {
     "name": "stderr",
     "output_type": "stream",
     "text": [
      "[Stage 30:=============================================>            (7 + 2) / 9]\r"
     ]
    },
    {
     "name": "stdout",
     "output_type": "stream",
     "text": [
      "Accuracy: 92.940700%\n"
     ]
    },
    {
     "name": "stderr",
     "output_type": "stream",
     "text": [
      "                                                                                \r"
     ]
    }
   ],
   "execution_count": 14
  }
 ],
 "metadata": {
  "kernelspec": {
   "display_name": "Python 3",
   "language": "python",
   "name": "python3"
  },
  "language_info": {
   "codemirror_mode": {
    "name": "ipython",
    "version": 2
   },
   "file_extension": ".py",
   "mimetype": "text/x-python",
   "name": "python",
   "nbconvert_exporter": "python",
   "pygments_lexer": "ipython2",
   "version": "2.7.6"
  }
 },
 "nbformat": 4,
 "nbformat_minor": 5
}
